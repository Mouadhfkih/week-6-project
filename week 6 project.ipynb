{
 "cells": [
  {
   "cell_type": "code",
   "execution_count": 16,
   "id": "264f7f4d",
   "metadata": {},
   "outputs": [
    {
     "name": "stdout",
     "output_type": "stream",
     "text": [
      "[[1, 2], [3, 4]]\n"
     ]
    }
   ],
   "source": [
    "# question 1\n",
    "import numpy as np\n",
    "a= np.array([[1,2],[3,4]])\n",
    "list1 = a.tolist()\n",
    "print(list1)"
   ]
  },
  {
   "cell_type": "code",
   "execution_count": 22,
   "id": "ac7d44e7",
   "metadata": {},
   "outputs": [
    {
     "name": "stdout",
     "output_type": "stream",
     "text": [
      "15\n"
     ]
    }
   ],
   "source": [
    "# question 2\n",
    "import numpy as np\n",
    "a=np.array([[1,2,3],[4,5,6],[7,8,9]])\n",
    "b=np.diag(a)\n",
    "s=0\n",
    "for i in b:\n",
    "    s+=i\n",
    "print(s)"
   ]
  },
  {
   "cell_type": "code",
   "execution_count": 102,
   "id": "d998683f",
   "metadata": {},
   "outputs": [
    {
     "name": "stdout",
     "output_type": "stream",
     "text": [
      "3\n",
      "4\n"
     ]
    }
   ],
   "source": [
    "# question 3\n",
    "import numpy as np\n",
    "A=np.array([[1,2],[3,4]])\n",
    "x=2\n",
    "n=np.shape(A)\n",
    "l=n[0]\n",
    "c=n[1]\n",
    "for i in range (0,l):\n",
    "    for j in range(0,c):\n",
    "        if A[i,j]> x:\n",
    "            print(A[i,j])\n"
   ]
  },
  {
   "cell_type": "code",
   "execution_count": 103,
   "id": "6fe7637f",
   "metadata": {},
   "outputs": [
    {
     "name": "stdout",
     "output_type": "stream",
     "text": [
      "[[2. 3.]\n",
      " [4. 5.]]\n"
     ]
    }
   ],
   "source": [
    "# question 4\n",
    "import numpy as np\n",
    "A= np.array([[1,2],[3,4]])\n",
    "B= np.array([[1,1],[1,1]])\n",
    "n= np.shape(A)\n",
    "l=n[0]\n",
    "c=n[1]\n",
    "C=np.zeros(l*c).reshape(l,c)\n",
    "for i in range(0,l):\n",
    "    for j in range(0,c):\n",
    "        C[i,j]=A[i,j]+B[i,j]\n",
    "print(C)\n"
   ]
  },
  {
   "cell_type": "code",
   "execution_count": 92,
   "id": "82b5e7ed",
   "metadata": {},
   "outputs": [
    {
     "name": "stdout",
     "output_type": "stream",
     "text": [
      "[2. 5.]\n",
      "[[-1.  0.  1.]\n",
      " [-1.  0.  1.]]\n"
     ]
    }
   ],
   "source": [
    "# question 5\n",
    "import numpy as np\n",
    "A=np.array([[1,2,3],[4,5,6]])\n",
    "n=np.shape(A)\n",
    "l=n[0]\n",
    "c=n[1]\n",
    "B=np.zeros(l*c).reshape(l,c)\n",
    "m=np.mean(A,axis=1)\n",
    "print(m)\n",
    "for i in range(0,l):\n",
    "    for j in range(0,c):\n",
    "        B[i,j]=A[i,j]-m[i]\n",
    "print(B)\n",
    "\n"
   ]
  },
  {
   "cell_type": "code",
   "execution_count": null,
   "id": "12cdcd87",
   "metadata": {},
   "outputs": [],
   "source": []
  }
 ],
 "metadata": {
  "kernelspec": {
   "display_name": "Python 3 (ipykernel)",
   "language": "python",
   "name": "python3"
  },
  "language_info": {
   "codemirror_mode": {
    "name": "ipython",
    "version": 3
   },
   "file_extension": ".py",
   "mimetype": "text/x-python",
   "name": "python",
   "nbconvert_exporter": "python",
   "pygments_lexer": "ipython3",
   "version": "3.9.7"
  }
 },
 "nbformat": 4,
 "nbformat_minor": 5
}
